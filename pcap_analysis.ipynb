{
 "cells": [
  {
   "cell_type": "code",
   "execution_count": 1,
   "metadata": {},
   "outputs": [
    {
     "ename": "FileNotFoundError",
     "evalue": "[Errno 2] No such file or directory: 'C:/map/AquaMark/pcap_analysis/tshark_PDML/20190913_Hotstar1_pcap_all.json'",
     "output_type": "error",
     "traceback": [
      "\u001b[0;31m---------------------------------------------------------------------------\u001b[0m",
      "\u001b[0;31mFileNotFoundError\u001b[0m                         Traceback (most recent call last)",
      "\u001b[0;32m<ipython-input-1-bde0bbf4b2f1>\u001b[0m in \u001b[0;36m<module>\u001b[0;34m\u001b[0m\n\u001b[1;32m      7\u001b[0m \u001b[0;32mfrom\u001b[0m \u001b[0mpprint\u001b[0m \u001b[0;32mimport\u001b[0m \u001b[0mpprint\u001b[0m\u001b[0;34m\u001b[0m\u001b[0;34m\u001b[0m\u001b[0m\n\u001b[1;32m      8\u001b[0m \u001b[0;34m\u001b[0m\u001b[0m\n\u001b[0;32m----> 9\u001b[0;31m \u001b[0;32mwith\u001b[0m \u001b[0mopen\u001b[0m\u001b[0;34m(\u001b[0m\u001b[0;34m'C:/map/AquaMark/pcap_analysis/tshark_PDML/20190913_Hotstar1_pcap_all.json'\u001b[0m\u001b[0;34m)\u001b[0m \u001b[0;32mas\u001b[0m \u001b[0mf\u001b[0m\u001b[0;34m:\u001b[0m\u001b[0;34m\u001b[0m\u001b[0;34m\u001b[0m\u001b[0m\n\u001b[0m\u001b[1;32m     10\u001b[0m     \u001b[0mdata\u001b[0m \u001b[0;34m=\u001b[0m \u001b[0mjson\u001b[0m\u001b[0;34m.\u001b[0m\u001b[0mload\u001b[0m\u001b[0;34m(\u001b[0m\u001b[0mf\u001b[0m\u001b[0;34m)\u001b[0m\u001b[0;34m\u001b[0m\u001b[0;34m\u001b[0m\u001b[0m\n\u001b[1;32m     11\u001b[0m \u001b[0;34m\u001b[0m\u001b[0m\n",
      "\u001b[0;31mFileNotFoundError\u001b[0m: [Errno 2] No such file or directory: 'C:/map/AquaMark/pcap_analysis/tshark_PDML/20190913_Hotstar1_pcap_all.json'"
     ]
    }
   ],
   "source": [
    "import sys\n",
    "import numpy as np\n",
    "import pandas as pd\n",
    "\n",
    "import json\n",
    "from statistics import mean\n",
    "from pprint import pprint\n",
    "\n",
    "with open('') as f:\n",
    "    data = json.load(f)\n",
    "\n",
    "    \n",
    "# read nexted json file\n",
    "#with open('C:/map/AquaMark/pcap_analysis/tshark_PDML/20190913_Hotstar1_pcap.json') as f:\n",
    "#    data = [json.loads(line) for line in f]  \n",
    "# Another approach to read nexted json file\n",
    "#data = [json.loads(line) for line in open('C:/map/AquaMark/pcap_analysis/tshark_PDML/20190913_Hotstar1_pcap.json', 'r')]\n",
    "\n",
    "#print(data[0])\n",
    "#print(data[417]['_source']['layers']['tcp']['tcp.analysis']['tcp.analysis.flags']['_ws.expert']['tcp.analysis.retransmission'])\n",
    "#print(data[84]['_source']['layers']['tcp']['tcp.options_tree']['tcp.options.wscale_tree']['tcp.options.wscale.multiplier'])\n",
    "\n",
    "\n",
    "# define function to retrieved the key values based on KPIs\n",
    "def extract_values(obj, key):\n",
    "    \"\"\"Pull all values of specified key from nested JSON.\"\"\"\n",
    "    arr = []\n",
    "\n",
    "    def extract(obj, arr, key):\n",
    "        \"\"\"Recursively search for values of key in JSON tree.\"\"\"\n",
    "        if isinstance(obj, dict):\n",
    "            for k, v in obj.items():\n",
    "                if isinstance(v, (dict, list)):\n",
    "                    extract(v, arr, key)\n",
    "                elif k == key:\n",
    "                    arr.append(v)\n",
    "        elif isinstance(obj, list):\n",
    "            for item in obj:\n",
    "                extract(item, arr, key)\n",
    "        return arr\n",
    "\n",
    "    results = extract(obj, arr, key)\n",
    "    return results\n",
    "\n",
    "\n",
    "names = extract_values(data, 'tcp.analysis.retransmission')\n",
    "tcp_analysis_retransmission_list = extract_values(data, 'tcp.analysis.retransmission')\n",
    "avg_tcp_window_size_list = extract_values(data, 'tcp.options.wscale.multiplier')\n",
    "http_kpis_list = extract_values(data, 'http.response.code')\n",
    "http_time_list = extract_values(data, 'http.time')\n",
    "print(http_time)\n",
    "\n",
    "\n",
    "\n",
    "http_ok_list = [idx for idx in http_kpis_list if idx.lower().startswith('2'.lower())]\n",
    "http_ok_percentage = len(http_ok_list)/len(http_kpis_list)*100\n",
    "\n",
    "http_redirect_list = [idx for idx in http_kpis_list if idx.lower().startswith('3'.lower())] \n",
    "http_redirect_percentage = len(http_redirect_list)/len(http_kpis_list)*100\n",
    "\n",
    "http_error_list = [idx for idx in http_kpis_list if idx.lower().startswith('4'.lower())] \n",
    "http_error_percentage = len(http_error_list)/len(http_kpis_list)*100\n",
    "\n",
    "tcp_analysis_retransmission_percentage = len(tcp_analysis_retransmission_list)/len(data)*100\n",
    "\n",
    "avg_tcp_window_size = mean(list(map(int, avg_tcp_window_size_list)))\n",
    "\n",
    "http_time_percentage = mean(list(map(float, http_time_list)))\n",
    "\n",
    "\n",
    "print(\"http_ok_percentage : \" + str(http_ok_percentage))\n",
    "print(\"http_redirect_percentage : \" + str(http_redirect_percentage))\n",
    "print(\"http_error_percentage : \" + str(http_error_percentage))\n",
    "print(\"tcp__retransmission_percentage : \" + str(tcp_analysis_retransmission_percentage))\n",
    "print(\"avg_tcp_window_size : \" + str(avg_tcp_window_size))\n",
    "print(\"http_time_percentage : \" + str(http_time_percentage))"
   ]
  },
  {
   "cell_type": "code",
   "execution_count": 7,
   "metadata": {},
   "outputs": [
    {
     "data": {
      "text/plain": [
       "'/usr/local/Cellar/jupyterlab/1.2.4/libexec/bin/python3.7'"
      ]
     },
     "execution_count": 7,
     "metadata": {},
     "output_type": "execute_result"
    }
   ],
   "source": [
    "sys.executable"
   ]
  },
  {
   "cell_type": "markdown",
   "metadata": {},
   "source": [
    "# HEADING 1\n",
    "- hello\n",
    "- he\n"
   ]
  },
  {
   "cell_type": "code",
   "execution_count": null,
   "metadata": {},
   "outputs": [],
   "source": []
  }
 ],
 "metadata": {
  "kernelspec": {
   "display_name": "Python 3",
   "language": "python",
   "name": "python3"
  },
  "language_info": {
   "codemirror_mode": {
    "name": "ipython",
    "version": 3
   },
   "file_extension": ".py",
   "mimetype": "text/x-python",
   "name": "python",
   "nbconvert_exporter": "python",
   "pygments_lexer": "ipython3",
   "version": "3.7.6"
  }
 },
 "nbformat": 4,
 "nbformat_minor": 2
}
